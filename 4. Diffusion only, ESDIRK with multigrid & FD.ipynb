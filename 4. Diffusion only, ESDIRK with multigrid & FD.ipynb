{
 "metadata": {
  "language": "Julia",
  "name": ""
 },
 "nbformat": 3,
 "nbformat_minor": 0,
 "worksheets": [
  {
   "cells": [
    {
     "cell_type": "markdown",
     "metadata": {},
     "source": [
      "III. Soving the diffusion problem with implicit Euler integration with multigrid & finite differences"
     ]
    },
    {
     "cell_type": "code",
     "collapsed": false,
     "input": [
      "using PyPlot"
     ],
     "language": "python",
     "metadata": {},
     "outputs": [],
     "prompt_number": 254
    },
    {
     "cell_type": "heading",
     "level": 2,
     "metadata": {},
     "source": [
      "Problem description"
     ]
    },
    {
     "cell_type": "markdown",
     "metadata": {},
     "source": [
      "For now, we want to solve the diffusion problem on a rectangular domain. The reaction part of the equation we want to solve in the end is currently set to zero. We therefore want to find a function $u$ defined as follows.\n",
      "\n",
      "\\begin{align}\n",
      "u: [a, b] \\times [c, d] \\times \u211d^+ &\\to \u211d^+ \\\\\n",
      "(x, y, t) &\\to u(x, y, t)\n",
      "\\end{align}\n",
      "\n",
      "We therefore want to solve the following PDE:\n",
      "\n",
      "$$\n",
      "u_t = D \u0394 u = D (u_xx + u_yy) \\\\\n",
      "u(a,y,t) = u(b,y,t) = u(x,c,t)=u(x,d,t)=0\n",
      "$$\n",
      "\n",
      "For this fourth solution, we still use a second-order finite differences method in space. In time, however, we use an explicit singly diagonal implicit Runge-Kutta method. The details of this integration step are mentioned in the corresponding section below."
     ]
    },
    {
     "cell_type": "markdown",
     "metadata": {},
     "source": [
      "For the spatial derivatives, we don\u2019t solve for $u^{n+1}$ directly (e.g. with $LU$-decomposition). Instead, we use a multigrid approach to solve the system iteratively. As the spatial approximation with finite differences has a simple, regular form, we can easily create the finite differences matrix for other, coarser grids as well. The matrices have the exact same form as for the finest grid, except that they have fewer entries. However, we impose that the number of intervals is a power of two to ensure that they can easily be mapped to a coarser grid."
     ]
    },
    {
     "cell_type": "heading",
     "level": 2,
     "metadata": {},
     "source": [
      "Types for spatial and temporal domain"
     ]
    },
    {
     "cell_type": "code",
     "collapsed": false,
     "input": [
      "immutable Grid2D\n",
      "    \n",
      "    x_start::Real\n",
      "    x_end::Real\n",
      "    y_start::Real\n",
      "    y_end::Real\n",
      "    Nx::Int\n",
      "    Ny::Int\n",
      "    dx::Real\n",
      "    dy::Real\n",
      "    levels::Int\n",
      "    \n",
      "    function Grid2D(x_start, x_end, y_start, y_end, Nx, Ny, levels)\n",
      "        \n",
      "        if Nx/2^(levels-1) != int(Nx/2^(levels-1))\n",
      "            error(\"ERROR: The number of intervals in x-direction is not divisible by 2^i\")\n",
      "        end\n",
      "        \n",
      "        if Ny/2^(levels-1) != int(Ny/2^(levels-1))\n",
      "            error(\"ERROR: The number of intervals in y-direction is not divisible by 2^i\")\n",
      "        end\n",
      "        \n",
      "        new(x_start, x_end, y_start, y_end, Nx, Ny, (x_end-x_start)/Nx, (y_end-y_start)/Ny, levels)\n",
      "    end\n",
      "end"
     ],
     "language": "python",
     "metadata": {},
     "outputs": [],
     "prompt_number": 255
    },
    {
     "cell_type": "code",
     "collapsed": false,
     "input": [
      "immutable TimeSteps\n",
      "    \n",
      "    t_start::Real\n",
      "    t_end::Real\n",
      "    Nt::Int\n",
      "    dt::Real\n",
      "    \n",
      "    TimeSteps(t_start, t_end, Nt) = new(t_start, t_end, Nt, (t_end-t_start)/Nt)\n",
      "    \n",
      "end"
     ],
     "language": "python",
     "metadata": {},
     "outputs": [],
     "prompt_number": 256
    },
    {
     "cell_type": "heading",
     "level": 2,
     "metadata": {},
     "source": [
      "Generator for exact solution"
     ]
    },
    {
     "cell_type": "markdown",
     "metadata": {},
     "source": [
      "As a very simple scenario, we use the following initial conditions:\n",
      "\n",
      "$$\n",
      "u(x,y,t = 0) = C_0 \\cdot sin(\u03c0 \\frac{x-a}{b-a}) \\cdot sin(\u03c0 \\frac{y-c}{d-c})\n",
      "$$\n",
      "\n",
      "This leads to the following analytical solution:\n",
      "\n",
      "$$\n",
      "u(x,y,t) = C_0 \\cdot sin( \\frac{x-a}{b-a}) \\cdot sin(\u03c0 \\frac{y-c}{d-c}) \\cdot exp( -\\left( \\frac{1}{(b-a)^2} + \\frac{1}{(d-c)^2} \\right) \\pi^2 D t)\n",
      "$$"
     ]
    },
    {
     "cell_type": "code",
     "collapsed": false,
     "input": [
      "function gen_exact(grid, C0, D)\n",
      "    x_size = grid.x_end - grid.x_start\n",
      "    y_size = grid.y_end - grid.y_start\n",
      "    exact(x,y,t) = C0 * sin((x-grid.x_start)/x_size * pi) * sin((y-grid.y_start)/y_size * pi) *\n",
      "                   exp( - (1/x_size^2 + 1/y_size^2) * pi^2 * D * t)\n",
      "end"
     ],
     "language": "python",
     "metadata": {},
     "outputs": [
      {
       "metadata": {},
       "output_type": "pyout",
       "prompt_number": 257,
       "text": [
        "gen_exact (generic function with 1 method)"
       ]
      }
     ],
     "prompt_number": 257
    },
    {
     "cell_type": "heading",
     "level": 2,
     "metadata": {},
     "source": [
      "Matrix for finite differences"
     ]
    },
    {
     "cell_type": "markdown",
     "metadata": {},
     "source": [
      "We define the finite differences matrices seperately for the $\\partial_{xx}$ and $\\partial_{yy}$ operators. The vector of unknowns $u$ is organized in col-major fashion (neighboring elements have the same y-value but not the same x-value).\n",
      "\n",
      "Thus, the matrix for $\\partial_{xx}$ is block-diagonal and organized as follows:\n",
      "\n",
      "\\begin{align*}\n",
      "FD_x =\n",
      "\\begin{pmatrix}\n",
      "B_1 & 0 & \\cdots & 0 \\\\\n",
      "0 & B_2 & \\cdots & 0 \\\\\n",
      "\\vdots & \\vdots & \\ddots & \\vdots \\\\\n",
      "0 & \\cdots & 0 & B_{N_y}\n",
      "\\end{pmatrix}\n",
      "&\n",
      "\\hspace{1cm}\n",
      "\\text{with}\n",
      "&\n",
      "B_i =\n",
      "\\begin{pmatrix}\n",
      "-2 & 1 &  0 & \\cdots & 0 \\\\\n",
      "1 & -2 &  1 & \\ddots & \\vdots \\\\\n",
      "0 &  1 & \\ddots & \\ddots & 0 \\\\\n",
      "\\vdots & \\ddots & \\ddots  & \\ddots & 1 \\\\\n",
      "0 & \\cdots & 0 & 1 & -2\n",
      "\\end{pmatrix}_{N_x \\times N_x}\n",
      "\\end{align*}\n",
      "\n",
      "The matrix for $\\partial_{xx}$ has has non-zero entries in the diagonal and the $N_{xx}$-th upper and lower diagonals.\n",
      "\n",
      "\\begin{align*}\n",
      "FD_y =\n",
      "\\begin{pmatrix}\n",
      "-2     & 0      & \\cdots &  1     & \\cdots & 0 \\\\\n",
      "0      & -2     & 0      & \\ddots & \\ddots & \\vdots \\\\\n",
      "\\vdots & 0      & -2     & \\ddots & \\ddots & 1 \\\\\n",
      "1      & \\ddots & \\ddots & \\ddots & \\ddots & \\vdots \\\\\n",
      "\\vdots & \\ddots & \\ddots & \\ddots & \\ddots & 0 \\\\\n",
      "0      & \\cdots & 1      & \\cdots & 0      & -2\n",
      "\\end{pmatrix}_{N_x N_y \\times N_x N_y}\n",
      "\\end{align*}\n",
      "\n",
      "The sum of these matrices, combined with their step sizes, forms the finite difference matrix that is used for the integration.\n",
      "\n",
      "$$\n",
      "FD = \\frac{1}{\\Delta x^2} FD_x + \\frac{1}{\\Delta y^2} FD_y\n",
      "$$\n",
      "\n",
      "As we have to create several different matrices for the multigrid matrix, we define a function that returns those matrices depending on the number and size of intervals."
     ]
    },
    {
     "cell_type": "code",
     "collapsed": false,
     "input": [
      "function fdmatrix(grid::Grid2D, matrix_function::Function = A -> A)\n",
      "    \n",
      "    # number of unknowns in x and y direction\n",
      "    ux = (grid.Nx-1)\n",
      "    uy = (grid.Ny-1)\n",
      "    \n",
      "    # finite difference matrix for \u2202\u00b2u/\u2202x\u00b2\n",
      "    FDx_local = spdiagm((ones(ux-1),-2*ones(ux),ones(ux-1)),(-1,0,1))\n",
      "    FDx = blkdiag({FDx_local for i in 1:uy}...)\n",
      "    \n",
      "    # finite difference matrix for \u2202\u00b2u/\u2202y\u00b2\n",
      "    FDy = spdiagm((ones(ux*(uy-1)),-2*ones(ux*uy),ones(ux*(uy-1))),(-ux,0,ux))\n",
      "    \n",
      "    # return combined matrix for \u0394u\n",
      "    matrix_function(1/grid.dx^2 * FDx + 1/grid.dy^2 * FDy)\n",
      "end"
     ],
     "language": "python",
     "metadata": {},
     "outputs": [
      {
       "metadata": {},
       "output_type": "pyout",
       "prompt_number": 258,
       "text": [
        "fdmatrix (generic function with 2 methods)"
       ]
      }
     ],
     "prompt_number": 258
    },
    {
     "cell_type": "heading",
     "level": 2,
     "metadata": {},
     "source": [
      "Multigrid for spatial derivatives"
     ]
    },
    {
     "cell_type": "code",
     "collapsed": false,
     "input": [
      "# helper function to get coarser levels of a grid\n",
      "function level(grid::Grid2D, lvl)\n",
      "    if lvl > grid.levels\n",
      "        error(\"ERROR: Grid doesn't support level $(level).\")\n",
      "    end\n",
      "    Grid2D(grid.x_start, grid.x_end, grid.y_start, grid.y_end, int(grid.Nx/2^(lvl-1)), int(grid.Ny/2^(lvl-1)), grid.levels-(lvl-1))\n",
      "end"
     ],
     "language": "python",
     "metadata": {},
     "outputs": [
      {
       "metadata": {},
       "output_type": "pyout",
       "prompt_number": 259,
       "text": [
        "level (generic function with 1 method)"
       ]
      }
     ],
     "prompt_number": 259
    },
    {
     "cell_type": "code",
     "collapsed": false,
     "input": [
      "function weighted_jacobi(A, x, b)\n",
      "    weight = 2/3\n",
      "    (speye(A) - weight*A) * x + weight*b\n",
      "end"
     ],
     "language": "python",
     "metadata": {},
     "outputs": [
      {
       "metadata": {},
       "output_type": "pyout",
       "prompt_number": 260,
       "text": [
        "weighted_jacobi (generic function with 1 method)"
       ]
      }
     ],
     "prompt_number": 260
    },
    {
     "cell_type": "code",
     "collapsed": false,
     "input": [
      "function restrictionmatrix(grid::Grid2D)\n",
      "    ux_old = grid.Nx - 1\n",
      "    uy_old = grid.Ny - 1\n",
      "    ux_new = div(grid.Nx,2) - 1\n",
      "    uy_new = div(grid.Ny,2) - 1\n",
      "    R = spzeros(ux_new*uy_new, ux_old*uy_old)\n",
      "    for j = 1:uy_new\n",
      "        for i = 1:ux_new\n",
      "            i_new = ux_new*(j-1) + i\n",
      "            R[i_new, ux_old*(2*j-1)     + 2*i    ] = 4\n",
      "            R[i_new, ux_old*(2*j-1)     + 2*i - 1] = 2\n",
      "            R[i_new, ux_old*(2*j-1)     + 2*i + 1] = 2\n",
      "            R[i_new, ux_old*(2*j-1 - 1) + 2*i    ] = 2\n",
      "            R[i_new, ux_old*(2*j-1 - 1) + 2*i - 1] = 1\n",
      "            R[i_new, ux_old*(2*j-1 - 1) + 2*i + 1] = 1\n",
      "            R[i_new, ux_old*(2*j-1 + 1) + 2*i    ] = 2\n",
      "            R[i_new, ux_old*(2*j-1 + 1) + 2*i - 1] = 1\n",
      "            R[i_new, ux_old*(2*j-1 + 1) + 2*i + 1] = 1\n",
      "        end\n",
      "    end\n",
      "    R /= 16\n",
      "end"
     ],
     "language": "python",
     "metadata": {},
     "outputs": [
      {
       "metadata": {},
       "output_type": "pyout",
       "prompt_number": 261,
       "text": [
        "restrictionmatrix (generic function with 1 method)"
       ]
      }
     ],
     "prompt_number": 261
    },
    {
     "cell_type": "code",
     "collapsed": false,
     "input": [
      "function gen_mgsolver(matrix_generator, restriction_generator, smoother, grid::Grid2D, \u03bd1::Int, \u03bd2::Int, tol=1e-12, max_it = 100,)\n",
      "    \n",
      "    # create main matrices for all levels\n",
      "    A = Dict()\n",
      "    for i = 1:grid.levels\n",
      "        A[i] = matrix_generator(level(grid,i))\n",
      "    end\n",
      "    \n",
      "    # create restriction matrices for all levels\n",
      "    R = Dict()\n",
      "    for i = 1:grid.levels-1\n",
      "        R[i] = restriction_generator(level(grid,i))\n",
      "    end\n",
      "    \n",
      "    \n",
      "    function mgsolver(b::Array, x0::Array = b, level::Int = 1)\n",
      "        \n",
      "        if level == grid.levels\n",
      "            return A[level] \\ b\n",
      "        end\n",
      "        \n",
      "        x = x0\n",
      "        \n",
      "        for it = 1:max_it\n",
      "                \n",
      "            # smoothen problem on current level\n",
      "            for i = 1:\u03bd1\n",
      "                x = smoother(A[level], x, b)\n",
      "            end\n",
      "            \n",
      "            # restrict residual to next level and solve recursively\n",
      "            r = R[level] * (b - A[level] * x)\n",
      "            e = mgsolver(r, zeros(r), level+1)\n",
      "        \n",
      "            # prolongate error to current level and add to solution\n",
      "            x += 4*R[level].' * e\n",
      "        \n",
      "            # post-smoothening on current level\n",
      "            for i = 1:\u03bd2\n",
      "                x = smoother(A[level], x, b)\n",
      "            end\n",
      "            \n",
      "            if level > 1\n",
      "                return x\n",
      "            end\n",
      "            \n",
      "            if norm(A[level] * x - b) < tol\n",
      "                #println(\"Converged with $(it) iterations\")\n",
      "                return x\n",
      "            end\n",
      "        end\n",
      "    \n",
      "        return x\n",
      "    end\n",
      "    \n",
      "    return mgsolver\n",
      "end"
     ],
     "language": "python",
     "metadata": {},
     "outputs": [
      {
       "metadata": {},
       "output_type": "pyout",
       "prompt_number": 262,
       "text": [
        "gen_mgsolver (generic function with 3 methods)"
       ]
      }
     ],
     "prompt_number": 262
    },
    {
     "cell_type": "heading",
     "level": 2,
     "metadata": {},
     "source": [
      "Define ESDIRK method"
     ]
    },
    {
     "cell_type": "markdown",
     "metadata": {},
     "source": [
      "We define an ESDIRK method with the following coefficients. As the implicit coefficient \u03c3 is the same for all stages, we always have the same matrix in the system $Ax=b$ that we solve \u2013 the only thing that changes is the right-hand side. To simplify the formulation, we use the following notation:\n",
      "\n",
      "$$\n",
      "FD = \\text{finite differences matrix} \\\\\n",
      "A = \\Delta t \\cdot D \\cdot FD\n",
      "$$\n",
      "\n",
      "This way, $\\Delta t \\cdot f(u) = A \\cdot u$ and we get the following formulation for the intermediate stages $k_i = \\Delta t \\cdot f(\\xi_i)$:\n",
      "\n",
      "$$\n",
      "k_1 = A \\cdot u^n \\\\\n",
      "k_2 = A \\cdot \\left( I - \\sigma A \\right)^{-1} \\left( u^n + a_{21} \\cdot k_1 \\right) \\\\\n",
      "k_3 = A \\cdot \\left( I - \\sigma A \\right)^{-1} \\left( u^n + a_{31} \\cdot k_1 + a_{32} \\cdot k_2 \\right) \\\\\n",
      "k_4 = A \\cdot \\left( I - \\sigma A \\right)^{-1} \\left( u^n + a_{41} \\cdot k_1 + a_{42} \\cdot k_2 + a_{43} \\cdot k_3 \\right)\n",
      "$$\n",
      "\n",
      "Finally, we can compute the next time step of $u$:\n",
      "\n",
      "$$\n",
      "u^{n+1} = u^n + b_1 \\cdot k_1 + b_2 \\cdot k_2 + b_3 \\cdot k_3 + b_4 \\cdot k_4\n",
      "$$"
     ]
    },
    {
     "cell_type": "code",
     "collapsed": false,
     "input": [
      "function gen_esdirk3(D::Real, grid::Grid2D, time::TimeSteps, matrix_generator::Function, solver::Function)\n",
      "    \n",
      "    # generate matrix for RHS: f(u) = Au\n",
      "    A = time.dt * D * matrix_generator(grid)\n",
      "    \n",
      "    # coefficients for ESDIRK3\n",
      "    c  = [0 1767732205903/2027836641118 3/5 1] # not used\n",
      "    \u03c3 = 1767732205903/4055673282236\n",
      "    a1 = [0 0 0 0]\n",
      "    a2 = [\u03c3 \u03c3 0 0]\n",
      "    a3 = [2746238789719/10658868560708 -640167445237/6845629431997 \u03c3 0]\n",
      "    a4 = [1471266399579/7840856788654 -4482444167858/7529755066697 11266239266428/11593286722821 \u03c3]\n",
      "    b  = a4\n",
      "    \n",
      "    #=\n",
      "    order_conditions = [\n",
      "        sum(b) - 1\n",
      "        b * c.' - 1/2\n",
      "        b * (c.^2).' / 2 - 1/6\n",
      "        b[1] * sum(a1 .* c) + b[2] * sum(a2 .* c) + b[3] * sum(a3 .* c) + b[4] * sum(a4 .* c) - 1/6\n",
      "    ]\n",
      "    println(order_conditions)\n",
      "    =#\n",
      "    \n",
      "    function esdirk3(u)\n",
      "        k1 = A * u\n",
      "        k2 = A * solver(u + \u03c3 * k1)\n",
      "        k3 = A * solver(u + a3[1] * k1 + a3[2] * k2)\n",
      "        k4 = A * solver(u + a4[1] * k1 + a4[2] * k2 + a4[3] * k3)\n",
      "        u += b[1] * k1 + b[2] * k2 + b[3] * k3 + b[4] * k4\n",
      "    end\n",
      "    \n",
      "    return esdirk3\n",
      "end"
     ],
     "language": "python",
     "metadata": {},
     "outputs": [
      {
       "metadata": {},
       "output_type": "pyout",
       "prompt_number": 263,
       "text": [
        "gen_esdirk3 (generic function with 1 method)"
       ]
      }
     ],
     "prompt_number": 263
    },
    {
     "cell_type": "heading",
     "level": 2,
     "metadata": {},
     "source": [
      "Do integration"
     ]
    },
    {
     "cell_type": "code",
     "collapsed": false,
     "input": [
      "function integrate(x::Array, integration_step::Function, time::TimeSteps)\n",
      "    for i in 1:time.Nt\n",
      "        x = integration_step(x)\n",
      "    end\n",
      "    x\n",
      "end"
     ],
     "language": "python",
     "metadata": {},
     "outputs": [
      {
       "metadata": {},
       "output_type": "pyout",
       "prompt_number": 264,
       "text": [
        "integrate (generic function with 1 method)"
       ]
      }
     ],
     "prompt_number": 264
    },
    {
     "cell_type": "heading",
     "level": 2,
     "metadata": {},
     "source": [
      "Define and solve the problem"
     ]
    },
    {
     "cell_type": "code",
     "collapsed": false,
     "input": [
      "g = Grid2D(1,3,2,5,2^5,2^5,3)"
     ],
     "language": "python",
     "metadata": {},
     "outputs": [
      {
       "metadata": {},
       "output_type": "pyout",
       "prompt_number": 265,
       "text": [
        "Grid2D(1,3,2,5,32,32,0.0625,0.09375,3)"
       ]
      }
     ],
     "prompt_number": 265
    },
    {
     "cell_type": "code",
     "collapsed": false,
     "input": [
      "t = TimeSteps(0, 1, 200)"
     ],
     "language": "python",
     "metadata": {},
     "outputs": [
      {
       "metadata": {},
       "output_type": "pyout",
       "prompt_number": 266,
       "text": [
        "TimeSteps(0,1,200,0.005)"
       ]
      }
     ],
     "prompt_number": 266
    },
    {
     "cell_type": "code",
     "collapsed": false,
     "input": [
      "C0 = 5\n",
      "D  = 0.1\n",
      "exact = gen_exact(g, C0, D)"
     ],
     "language": "python",
     "metadata": {},
     "outputs": [
      {
       "metadata": {},
       "output_type": "pyout",
       "prompt_number": 267,
       "text": [
        "exact (generic function with 1 method)"
       ]
      }
     ],
     "prompt_number": 267
    },
    {
     "cell_type": "heading",
     "level": 3,
     "metadata": {},
     "source": [
      "Exact solution"
     ]
    },
    {
     "cell_type": "code",
     "collapsed": false,
     "input": [
      "C_exact = Float64[exact(x,y,t.t_end) for x=g.x_start:g.dx:g.x_end, y=g.y_start:g.dy:g.y_end]\n",
      "pcolormesh(C_exact)\n",
      "colorbar()\n",
      "clim((0,5))"
     ],
     "language": "python",
     "metadata": {},
     "outputs": [
      {
       "metadata": {},
       "output_type": "display_data",
       "png": "[encoded data removed]",
       "text": [
        "Figure(PyObject <matplotlib.figure.Figure object at 0x7f4539eb7a50>)"
       ]
      }
     ],
     "prompt_number": 268
    },
    {
     "cell_type": "heading",
     "level": 3,
     "metadata": {},
     "source": [
      "Approximate solution"
     ]
    },
    {
     "cell_type": "code",
     "collapsed": false,
     "input": [
      "# use exact function to set up initial conditions\n",
      "C = Float64[exact(x,y,t.t_start) for x=g.x_start:g.dx:g.x_end, y=g.y_start:g.dy:g.y_end];"
     ],
     "language": "python",
     "metadata": {},
     "outputs": [],
     "prompt_number": 269
    },
    {
     "cell_type": "code",
     "collapsed": false,
     "input": [
      "\u03c3 = 1767732205903/4055673282236\n",
      "solver = gen_mgsolver(g -> speye((g.Nx-1)*(g.Ny-1)) - t.dt * \u03c3 * D * fdmatrix(g),\n",
      "                      restrictionmatrix, weighted_jacobi, g, 0, 1)\n",
      "integration_step = gen_esdirk3(D, g, t, fdmatrix, solver)"
     ],
     "language": "python",
     "metadata": {},
     "outputs": [
      {
       "metadata": {},
       "output_type": "pyout",
       "prompt_number": 270,
       "text": [
        "esdirk3 (generic function with 1 method)"
       ]
      }
     ],
     "prompt_number": 270
    },
    {
     "cell_type": "code",
     "collapsed": false,
     "input": [
      "x = vcat(C[2:end-1,2:end-1]...)\n",
      "x = integrate(x, integration_step, t)\n",
      "C[2:end-1,2:end-1] = reshape(x,g.Nx-1,g.Ny-1)\n",
      "pcolormesh(C)\n",
      "colorbar()\n",
      "clim((0,C0))"
     ],
     "language": "python",
     "metadata": {},
     "outputs": [
      {
       "metadata": {},
       "output_type": "display_data",
       "png": "[encoded data removed]",
       "text": [
        "Figure(PyObject <matplotlib.figure.Figure object at 0x7f4538420f90>)"
       ]
      }
     ],
     "prompt_number": 271
    },
    {
     "cell_type": "heading",
     "level": 2,
     "metadata": {},
     "source": [
      "Compare to exact solution"
     ]
    },
    {
     "cell_type": "code",
     "collapsed": false,
     "input": [
      "norm(C - C_exact)"
     ],
     "language": "python",
     "metadata": {},
     "outputs": [
      {
       "metadata": {},
       "output_type": "pyout",
       "prompt_number": 272,
       "text": [
        "0.016032013696206993"
       ]
      }
     ],
     "prompt_number": 272
    }
   ],
   "metadata": {}
  }
 ]
}